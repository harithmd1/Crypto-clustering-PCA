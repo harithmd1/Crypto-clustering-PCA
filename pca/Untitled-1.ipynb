{
 "cells": [
  {
   "cell_type": "code",
   "execution_count": null,
   "metadata": {},
   "outputs": [],
   "source": []
  },
  {
   "cell_type": "markdown",
   "metadata": {},
   "source": [
    "# Cryptocurrencies PCA clustering and plotting \n",
    "\n",
    "## Source\n",
    "- Coinmarketcap API\n",
    "\n",
    "## Problem\n",
    "- Cryptocurrencies behavior \n",
    "\n",
    "## Solution\n",
    "- PCA clustering to two dimentions\n",
    "\n",
    "## Visualize\n",
    "- plot the clusters\n",
    "\n",
    "## Explaation\n",
    "- provide the clusters main data points and their mean for the cluster "
   ]
  }
 ],
 "metadata": {
  "language_info": {
   "name": "python"
  }
 },
 "nbformat": 4,
 "nbformat_minor": 2
}
